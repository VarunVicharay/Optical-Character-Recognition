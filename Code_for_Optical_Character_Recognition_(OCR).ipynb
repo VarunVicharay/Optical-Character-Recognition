{
  "nbformat": 4,
  "nbformat_minor": 0,
  "metadata": {
    "colab": {
      "name": "Code for Optical Character Recognition (OCR).ipynb",
      "provenance": [],
      "authorship_tag": "ABX9TyOL+z6VElTE+KPFKP/7DCni",
      "include_colab_link": true
    },
    "kernelspec": {
      "name": "python3",
      "display_name": "Python 3"
    }
  },
  "cells": [
    {
      "cell_type": "markdown",
      "metadata": {
        "id": "view-in-github",
        "colab_type": "text"
      },
      "source": [
        "<a href=\"https://colab.research.google.com/github/VarunVicharay/Optical-Character-Recognition/blob/main/Code_for_Optical_Character_Recognition_(OCR).ipynb\" target=\"_parent\"><img src=\"https://colab.research.google.com/assets/colab-badge.svg\" alt=\"Open In Colab\"/></a>"
      ]
    },
    {
      "cell_type": "code",
      "metadata": {
        "id": "HlHfsLqCm0rf"
      },
      "source": [
        "#NAME: VARUN VICHARAY\n",
        "#TASK1: OPTICAL CHARACTER RECOGNITION (OCR)"
      ],
      "execution_count": null,
      "outputs": []
    },
    {
      "cell_type": "code",
      "metadata": {
        "id": "lNGj4lZrJyg6"
      },
      "source": [
        "!sudo apt install tesseract-ocr\n"
      ],
      "execution_count": null,
      "outputs": []
    },
    {
      "cell_type": "code",
      "metadata": {
        "id": "wCGNBB4tJ9C9"
      },
      "source": [
        "!pip install pytesseract"
      ],
      "execution_count": null,
      "outputs": []
    },
    {
      "cell_type": "code",
      "metadata": {
        "id": "M9Zk684YKAp6"
      },
      "source": [
        "import pytesseract\n",
        "import shutil\n",
        "import os\n",
        "import random\n",
        "try:\n",
        " from PIL import Image\n",
        "except ImportError:\n",
        " import Image"
      ],
      "execution_count": null,
      "outputs": []
    },
    {
      "cell_type": "code",
      "metadata": {
        "id": "v3glLbbLKD8D"
      },
      "source": [
        "from google.colab import files\n",
        "uploaded = files.upload()"
      ],
      "execution_count": null,
      "outputs": []
    },
    {
      "cell_type": "code",
      "metadata": {
        "id": "x8vdbvZpKQh7"
      },
      "source": [
        "image_path_in_colab='capture1.PNG'\n",
        "extractedInformation = pytesseract.image_to_string(Image.open(image_path_in_colab))\n",
        "print(extractedInformation)"
      ],
      "execution_count": null,
      "outputs": []
    },
    {
      "cell_type": "code",
      "metadata": {
        "id": "XO4T2cXTKlZz"
      },
      "source": [
        "print(pytesseract.image_to_boxes(Image.open(image_path_in_colab)))"
      ],
      "execution_count": null,
      "outputs": []
    }
  ]
}